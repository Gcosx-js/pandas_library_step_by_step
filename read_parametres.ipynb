{
 "cells": [
  {
   "cell_type": "code",
   "execution_count": 1,
   "id": "6393dceb-ab1c-43b6-9665-a5355ce23556",
   "metadata": {},
   "outputs": [],
   "source": [
    "import pandas as pd\n",
    "import numpy as np"
   ]
  },
  {
   "cell_type": "markdown",
   "id": "6ba90955-7611-420d-a6e2-4e0d14cb7986",
   "metadata": {},
   "source": [
    "# Read parametres"
   ]
  },
  {
   "cell_type": "markdown",
   "id": "63d170ea-5fbd-421f-bd23-7a0e057bb3e6",
   "metadata": {},
   "source": [
    "### sep = '.' -- > Seperate with "
   ]
  },
  {
   "cell_type": "markdown",
   "id": "3d0f0afe-9b46-488a-b203-933e5c9b1474",
   "metadata": {
    "jp-MarkdownHeadingCollapsed": true
   },
   "source": [
    "### If there is no column name, we must say this to python -->  header=None"
   ]
  },
  {
   "cell_type": "markdown",
   "id": "2fa094e0-d954-42f9-a140-09b953274b69",
   "metadata": {},
   "source": [
    "### We can give our columns name, if whenver we want --> names=[]"
   ]
  },
  {
   "cell_type": "code",
   "execution_count": null,
   "id": "00bc60f1-0f12-4056-b61e-04ad5d79e566",
   "metadata": {},
   "outputs": [],
   "source": []
  }
 ],
 "metadata": {
  "kernelspec": {
   "display_name": "Python 3 (ipykernel)",
   "language": "python",
   "name": "python3"
  },
  "language_info": {
   "codemirror_mode": {
    "name": "ipython",
    "version": 3
   },
   "file_extension": ".py",
   "mimetype": "text/x-python",
   "name": "python",
   "nbconvert_exporter": "python",
   "pygments_lexer": "ipython3",
   "version": "3.12.2"
  }
 },
 "nbformat": 4,
 "nbformat_minor": 5
}
