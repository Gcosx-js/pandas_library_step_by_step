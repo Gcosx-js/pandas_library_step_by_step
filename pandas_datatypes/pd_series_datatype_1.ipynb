{
 "cells": [
  {
   "cell_type": "code",
   "execution_count": 3,
   "id": "09926013-25ae-4d4f-9be8-a237981dcd72",
   "metadata": {},
   "outputs": [
    {
     "name": "stdout",
     "output_type": "stream",
     "text": [
      "[1 'Elmir' True 3.5]\n",
      "1\n",
      "Index(['t', 3, 2, 1], dtype='object')\n"
     ]
    }
   ],
   "source": [
    "import pandas as pd\n",
    "obj = pd.Series([1,\"Elmir\",True,3.5],index = [\"t\",3,2,1])\n",
    "print(obj.values)\n",
    "print(obj[\"t\"])\n",
    "print(obj.index)"
   ]
  },
  {
   "cell_type": "code",
   "execution_count": 20,
   "id": "60d2ed5a-d963-403f-9ca4-fb1210eba894",
   "metadata": {},
   "outputs": [
    {
     "data": {
      "text/plain": [
       "Elmir     210\n",
       "Abidin    279\n",
       "Orxan     210\n",
       "dtype: int64"
      ]
     },
     "execution_count": 20,
     "metadata": {},
     "output_type": "execute_result"
    }
   ],
   "source": [
    "notlar = {'Elmir':92,'Abidin':93,'Orxan':94}\n",
    "notlar  = pd.Series(notlar)\n",
    "notlar[\"Orxan\"]\n",
    "notlar[notlar>80] #return value\n",
    "notlar>90 #return boolean\n",
    "\n",
    "notlar['Elmir'] = 100 # single value changing\n",
    "notlar['Elmir'] #print\n",
    "\n",
    "notlar[notlar>=94]=70 #multi value changing\n",
    "\n",
    "'Elmir' in notlar #Conditions :\n",
    "'Vusal' in notlar #--> False\n",
    "\n",
    "################\n",
    "\n",
    "#Mathematical process\n",
    "\n",
    "notlar/20\n",
    "notlar**2\n",
    "notlar*3\n",
    "# and etc..\n",
    "\n",
    "\n",
    "notlar.isnull() #conditions(2)\n"
   ]
  },
  {
   "cell_type": "code",
   "execution_count": null,
   "id": "ed806b90-dbbc-4be3-a877-e6a2d40a3d65",
   "metadata": {},
   "outputs": [],
   "source": []
  }
 ],
 "metadata": {
  "kernelspec": {
   "display_name": "Python 3 (ipykernel)",
   "language": "python",
   "name": "python3"
  },
  "language_info": {
   "codemirror_mode": {
    "name": "ipython",
    "version": 3
   },
   "file_extension": ".py",
   "mimetype": "text/x-python",
   "name": "python",
   "nbconvert_exporter": "python",
   "pygments_lexer": "ipython3",
   "version": "3.12.2"
  }
 },
 "nbformat": 4,
 "nbformat_minor": 5
}
