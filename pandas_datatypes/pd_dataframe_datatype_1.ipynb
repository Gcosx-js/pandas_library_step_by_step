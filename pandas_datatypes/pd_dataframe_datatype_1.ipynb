{
 "cells": [
  {
   "cell_type": "code",
   "execution_count": 1,
   "id": "0c2eb8fa-5f57-417c-99ee-61214b794b6d",
   "metadata": {},
   "outputs": [],
   "source": [
    "#Lets start to learn DataFrame "
   ]
  },
  {
   "cell_type": "code",
   "execution_count": 2,
   "id": "ad57f544-5fd5-41c3-a255-516e7eacf336",
   "metadata": {},
   "outputs": [],
   "source": [
    "import pandas as pd"
   ]
  },
  {
   "cell_type": "code",
   "execution_count": 20,
   "id": "574c97bc-a6fe-410f-8603-b763f2dccb76",
   "metadata": {},
   "outputs": [],
   "source": [
    "data = {\"Name\":['Elmir','Orxan','Abidin'],\n",
    "       \"Sport\":['Football','Basketball','HandBall'],\n",
    "       \"Age\":[16,18,21],\n",
    "       \"Gender\":['Man','Man','Man']}\n",
    "\n",
    "df = pd.DataFrame(data)"
   ]
  },
  {
   "cell_type": "code",
   "execution_count": 13,
   "id": "2a7f2315-93ba-4e73-bfa0-e4919e54c4cb",
   "metadata": {},
   "outputs": [
    {
     "data": {
      "text/html": [
       "<div>\n",
       "<style scoped>\n",
       "    .dataframe tbody tr th:only-of-type {\n",
       "        vertical-align: middle;\n",
       "    }\n",
       "\n",
       "    .dataframe tbody tr th {\n",
       "        vertical-align: top;\n",
       "    }\n",
       "\n",
       "    .dataframe thead th {\n",
       "        text-align: right;\n",
       "    }\n",
       "</style>\n",
       "<table border=\"1\" class=\"dataframe\">\n",
       "  <thead>\n",
       "    <tr style=\"text-align: right;\">\n",
       "      <th></th>\n",
       "      <th>Names</th>\n",
       "      <th>Sport</th>\n",
       "      <th>Age</th>\n",
       "      <th>Gender</th>\n",
       "    </tr>\n",
       "  </thead>\n",
       "  <tbody>\n",
       "    <tr>\n",
       "      <th>2</th>\n",
       "      <td>Abidin</td>\n",
       "      <td>HandBall</td>\n",
       "      <td>21</td>\n",
       "      <td>Man</td>\n",
       "    </tr>\n",
       "  </tbody>\n",
       "</table>\n",
       "</div>"
      ],
      "text/plain": [
       "    Names     Sport  Age Gender\n",
       "2  Abidin  HandBall   21    Man"
      ]
     },
     "execution_count": 13,
     "metadata": {},
     "output_type": "execute_result"
    }
   ],
   "source": [
    "#df.tail(n)\n",
    "#Default n = 5\n",
    "#Get last n row (just edit n)\n",
    "df.tail(n=1)"
   ]
  },
  {
   "cell_type": "code",
   "execution_count": 26,
   "id": "47f0a195-3e0f-4c1d-8e67-a7cec072c204",
   "metadata": {},
   "outputs": [
    {
     "data": {
      "text/html": [
       "<div>\n",
       "<style scoped>\n",
       "    .dataframe tbody tr th:only-of-type {\n",
       "        vertical-align: middle;\n",
       "    }\n",
       "\n",
       "    .dataframe tbody tr th {\n",
       "        vertical-align: top;\n",
       "    }\n",
       "\n",
       "    .dataframe thead th {\n",
       "        text-align: right;\n",
       "    }\n",
       "</style>\n",
       "<table border=\"1\" class=\"dataframe\">\n",
       "  <thead>\n",
       "    <tr style=\"text-align: right;\">\n",
       "      <th></th>\n",
       "      <th>Gender</th>\n",
       "      <th>Age</th>\n",
       "      <th>Sport</th>\n",
       "      <th>Name</th>\n",
       "      <th>Point</th>\n",
       "    </tr>\n",
       "  </thead>\n",
       "  <tbody>\n",
       "    <tr>\n",
       "      <th>0</th>\n",
       "      <td>False</td>\n",
       "      <td>False</td>\n",
       "      <td>False</td>\n",
       "      <td>False</td>\n",
       "      <td>True</td>\n",
       "    </tr>\n",
       "    <tr>\n",
       "      <th>1</th>\n",
       "      <td>False</td>\n",
       "      <td>False</td>\n",
       "      <td>False</td>\n",
       "      <td>False</td>\n",
       "      <td>True</td>\n",
       "    </tr>\n",
       "    <tr>\n",
       "      <th>2</th>\n",
       "      <td>False</td>\n",
       "      <td>False</td>\n",
       "      <td>False</td>\n",
       "      <td>False</td>\n",
       "      <td>True</td>\n",
       "    </tr>\n",
       "  </tbody>\n",
       "</table>\n",
       "</div>"
      ],
      "text/plain": [
       "   Gender    Age  Sport   Name  Point\n",
       "0   False  False  False  False   True\n",
       "1   False  False  False  False   True\n",
       "2   False  False  False  False   True"
      ]
     },
     "execution_count": 26,
     "metadata": {},
     "output_type": "execute_result"
    }
   ],
   "source": [
    "#Columns swap\n",
    "df = pd.DataFrame(data,columns=['Gender','Age','Sport','Name','Point']) #->> # Swap add 'Point' without value\n",
    "#Lets check it\n",
    "df.isnull() "
   ]
  },
  {
   "cell_type": "code",
   "execution_count": 33,
   "id": "cc963321-31a8-4da9-b37e-7f97aff94525",
   "metadata": {},
   "outputs": [
    {
     "data": {
      "text/html": [
       "<div>\n",
       "<style scoped>\n",
       "    .dataframe tbody tr th:only-of-type {\n",
       "        vertical-align: middle;\n",
       "    }\n",
       "\n",
       "    .dataframe tbody tr th {\n",
       "        vertical-align: top;\n",
       "    }\n",
       "\n",
       "    .dataframe thead th {\n",
       "        text-align: right;\n",
       "    }\n",
       "</style>\n",
       "<table border=\"1\" class=\"dataframe\">\n",
       "  <thead>\n",
       "    <tr style=\"text-align: right;\">\n",
       "      <th></th>\n",
       "      <th>Gender</th>\n",
       "      <th>Age</th>\n",
       "      <th>Sport</th>\n",
       "      <th>Name</th>\n",
       "    </tr>\n",
       "  </thead>\n",
       "  <tbody>\n",
       "    <tr>\n",
       "      <th>A</th>\n",
       "      <td>Man</td>\n",
       "      <td>16</td>\n",
       "      <td>Football</td>\n",
       "      <td>Elmir</td>\n",
       "    </tr>\n",
       "    <tr>\n",
       "      <th>B</th>\n",
       "      <td>Man</td>\n",
       "      <td>18</td>\n",
       "      <td>Basketball</td>\n",
       "      <td>Orxan</td>\n",
       "    </tr>\n",
       "    <tr>\n",
       "      <th>C</th>\n",
       "      <td>Man</td>\n",
       "      <td>21</td>\n",
       "      <td>HandBall</td>\n",
       "      <td>Abidin</td>\n",
       "    </tr>\n",
       "  </tbody>\n",
       "</table>\n",
       "</div>"
      ],
      "text/plain": [
       "  Gender  Age       Sport    Name\n",
       "A    Man   16    Football   Elmir\n",
       "B    Man   18  Basketball   Orxan\n",
       "C    Man   21    HandBall  Abidin"
      ]
     },
     "execution_count": 33,
     "metadata": {},
     "output_type": "execute_result"
    }
   ],
   "source": [
    "#Edit index\n",
    "df = pd.DataFrame(data,columns=['Gender','Age','Sport','Name'],index=['A','B','C'])"
   ]
  },
  {
   "cell_type": "code",
   "execution_count": 37,
   "id": "ea6ff4d0-6795-4a83-8735-386f740781a5",
   "metadata": {},
   "outputs": [
    {
     "data": {
      "text/html": [
       "<div>\n",
       "<style scoped>\n",
       "    .dataframe tbody tr th:only-of-type {\n",
       "        vertical-align: middle;\n",
       "    }\n",
       "\n",
       "    .dataframe tbody tr th {\n",
       "        vertical-align: top;\n",
       "    }\n",
       "\n",
       "    .dataframe thead th {\n",
       "        text-align: right;\n",
       "    }\n",
       "</style>\n",
       "<table border=\"1\" class=\"dataframe\">\n",
       "  <thead>\n",
       "    <tr style=\"text-align: right;\">\n",
       "      <th></th>\n",
       "      <th>Age</th>\n",
       "      <th>Sport</th>\n",
       "    </tr>\n",
       "  </thead>\n",
       "  <tbody>\n",
       "    <tr>\n",
       "      <th>A</th>\n",
       "      <td>16</td>\n",
       "      <td>Football</td>\n",
       "    </tr>\n",
       "    <tr>\n",
       "      <th>B</th>\n",
       "      <td>18</td>\n",
       "      <td>Basketball</td>\n",
       "    </tr>\n",
       "    <tr>\n",
       "      <th>C</th>\n",
       "      <td>21</td>\n",
       "      <td>HandBall</td>\n",
       "    </tr>\n",
       "  </tbody>\n",
       "</table>\n",
       "</div>"
      ],
      "text/plain": [
       "   Age       Sport\n",
       "A   16    Football\n",
       "B   18  Basketball\n",
       "C   21    HandBall"
      ]
     },
     "execution_count": 37,
     "metadata": {},
     "output_type": "execute_result"
    }
   ],
   "source": [
    "df['Age'] #get single column\n",
    "df[['Age','Sport']] #get multi column"
   ]
  },
  {
   "cell_type": "code",
   "execution_count": 38,
   "id": "e96119e0-b21f-4c53-a8fb-68922496b070",
   "metadata": {},
   "outputs": [
    {
     "data": {
      "text/html": [
       "<div>\n",
       "<style scoped>\n",
       "    .dataframe tbody tr th:only-of-type {\n",
       "        vertical-align: middle;\n",
       "    }\n",
       "\n",
       "    .dataframe tbody tr th {\n",
       "        vertical-align: top;\n",
       "    }\n",
       "\n",
       "    .dataframe thead th {\n",
       "        text-align: right;\n",
       "    }\n",
       "</style>\n",
       "<table border=\"1\" class=\"dataframe\">\n",
       "  <thead>\n",
       "    <tr style=\"text-align: right;\">\n",
       "      <th></th>\n",
       "      <th>Gender</th>\n",
       "      <th>Age</th>\n",
       "      <th>Sport</th>\n",
       "      <th>Name</th>\n",
       "    </tr>\n",
       "  </thead>\n",
       "  <tbody>\n",
       "    <tr>\n",
       "      <th>A</th>\n",
       "      <td>Man</td>\n",
       "      <td>16</td>\n",
       "      <td>Football</td>\n",
       "      <td>Elmir</td>\n",
       "    </tr>\n",
       "  </tbody>\n",
       "</table>\n",
       "</div>"
      ],
      "text/plain": [
       "  Gender  Age     Sport   Name\n",
       "A    Man   16  Football  Elmir"
      ]
     },
     "execution_count": 38,
     "metadata": {},
     "output_type": "execute_result"
    }
   ],
   "source": [
    "#Get data with index\n",
    "df.loc[['A']] #df.loc[['A','B']]"
   ]
  },
  {
   "cell_type": "code",
   "execution_count": 43,
   "id": "1219ee03-078b-4395-a4e7-33c85f52285c",
   "metadata": {},
   "outputs": [
    {
     "data": {
      "text/html": [
       "<div>\n",
       "<style scoped>\n",
       "    .dataframe tbody tr th:only-of-type {\n",
       "        vertical-align: middle;\n",
       "    }\n",
       "\n",
       "    .dataframe tbody tr th {\n",
       "        vertical-align: top;\n",
       "    }\n",
       "\n",
       "    .dataframe thead th {\n",
       "        text-align: right;\n",
       "    }\n",
       "</style>\n",
       "<table border=\"1\" class=\"dataframe\">\n",
       "  <thead>\n",
       "    <tr style=\"text-align: right;\">\n",
       "      <th></th>\n",
       "      <th>Gender</th>\n",
       "      <th>Age</th>\n",
       "      <th>Sport</th>\n",
       "      <th>Name</th>\n",
       "    </tr>\n",
       "  </thead>\n",
       "  <tbody>\n",
       "    <tr>\n",
       "      <th>A</th>\n",
       "      <td>Man</td>\n",
       "      <td>16</td>\n",
       "      <td>Football</td>\n",
       "      <td>Elmir</td>\n",
       "    </tr>\n",
       "    <tr>\n",
       "      <th>B</th>\n",
       "      <td>Man</td>\n",
       "      <td>18</td>\n",
       "      <td>Basketball</td>\n",
       "      <td>Orxan</td>\n",
       "    </tr>\n",
       "    <tr>\n",
       "      <th>C</th>\n",
       "      <td>Man</td>\n",
       "      <td>21</td>\n",
       "      <td>HandBall</td>\n",
       "      <td>Abidin</td>\n",
       "    </tr>\n",
       "  </tbody>\n",
       "</table>\n",
       "</div>"
      ],
      "text/plain": [
       "  Gender  Age       Sport    Name\n",
       "A    Man   16    Football   Elmir\n",
       "B    Man   18  Basketball   Orxan\n",
       "C    Man   21    HandBall  Abidin"
      ]
     },
     "execution_count": 43,
     "metadata": {},
     "output_type": "execute_result"
    }
   ],
   "source": [
    "#Create new column with mini filter and delete it\n",
    "\n",
    "df['The largest']=df.Age > 18\n",
    "del df['The largest']"
   ]
  },
  {
   "cell_type": "code",
   "execution_count": 56,
   "id": "28a93ec4-3fc2-4715-93de-b55d40850bdf",
   "metadata": {},
   "outputs": [],
   "source": [
    "#Some functions:\n",
    "df.T #-> Replace columns with row (swap)\n",
    "df.columns.name = 'My columns' #Give name to columns\n",
    "df.index.name = 'My index' #to index\n",
    "df.values\n",
    "m_index = df.index #--> Set index(or other thing) to ummutable\n",
    "m_index['1']='Con' #--> TypeError: Index does not support mutable operations"
   ]
  },
  {
   "cell_type": "code",
   "execution_count": null,
   "id": "804a815b-8c82-4574-be6f-5a49556c51c4",
   "metadata": {},
   "outputs": [],
   "source": []
  }
 ],
 "metadata": {
  "kernelspec": {
   "display_name": "Python 3 (ipykernel)",
   "language": "python",
   "name": "python3"
  },
  "language_info": {
   "codemirror_mode": {
    "name": "ipython",
    "version": 3
   },
   "file_extension": ".py",
   "mimetype": "text/x-python",
   "name": "python",
   "nbconvert_exporter": "python",
   "pygments_lexer": "ipython3",
   "version": "3.12.2"
  }
 },
 "nbformat": 4,
 "nbformat_minor": 5
}
