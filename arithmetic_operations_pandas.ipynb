{
 "cells": [
  {
   "cell_type": "code",
   "execution_count": 16,
   "id": "0c80187a-6e77-47f7-91ff-a1621691667a",
   "metadata": {},
   "outputs": [],
   "source": [
    "import pandas as pd\n",
    "import numpy as np\n",
    "\n",
    "s1 = pd.Series(np.arange(4),index=['A','B','C','D'])\n",
    "s2 = pd.Series(np.arange(6,11),index=['A','B','C','D','E'])"
   ]
  },
  {
   "cell_type": "code",
   "execution_count": 17,
   "id": "38c28d44-29a6-4c58-96a2-78fce6d057c7",
   "metadata": {},
   "outputs": [
    {
     "data": {
      "text/plain": [
       "(A    0\n",
       " B    1\n",
       " C    2\n",
       " D    3\n",
       " dtype: int32,\n",
       " A     6\n",
       " B     7\n",
       " C     8\n",
       " D     9\n",
       " E    10\n",
       " dtype: int32)"
      ]
     },
     "execution_count": 17,
     "metadata": {},
     "output_type": "execute_result"
    }
   ],
   "source": [
    "s1,s2"
   ]
  },
  {
   "cell_type": "code",
   "execution_count": 18,
   "id": "b15c2a38-c3e9-42b7-8734-3c611e99b869",
   "metadata": {},
   "outputs": [
    {
     "data": {
      "text/plain": [
       "A     6.0\n",
       "B     8.0\n",
       "C    10.0\n",
       "D    12.0\n",
       "E     NaN\n",
       "dtype: float64"
      ]
     },
     "execution_count": 18,
     "metadata": {},
     "output_type": "execute_result"
    }
   ],
   "source": [
    "s1+s2"
   ]
  },
  {
   "cell_type": "code",
   "execution_count": 20,
   "id": "45dafef1-35dc-4ad8-9a80-d5fbbb81a8ec",
   "metadata": {},
   "outputs": [
    {
     "data": {
      "text/plain": [
       "A   -6.0\n",
       "B   -6.0\n",
       "C   -6.0\n",
       "D   -6.0\n",
       "E    NaN\n",
       "dtype: float64"
      ]
     },
     "execution_count": 20,
     "metadata": {},
     "output_type": "execute_result"
    }
   ],
   "source": [
    "s1-s2"
   ]
  },
  {
   "cell_type": "code",
   "execution_count": 24,
   "id": "acfb42eb-af47-46ae-84de-867a9bcab154",
   "metadata": {},
   "outputs": [
    {
     "data": {
      "text/html": [
       "<div>\n",
       "<style scoped>\n",
       "    .dataframe tbody tr th:only-of-type {\n",
       "        vertical-align: middle;\n",
       "    }\n",
       "\n",
       "    .dataframe tbody tr th {\n",
       "        vertical-align: top;\n",
       "    }\n",
       "\n",
       "    .dataframe thead th {\n",
       "        text-align: right;\n",
       "    }\n",
       "</style>\n",
       "<table border=\"1\" class=\"dataframe\">\n",
       "  <thead>\n",
       "    <tr style=\"text-align: right;\">\n",
       "      <th></th>\n",
       "      <th>One</th>\n",
       "      <th>Two</th>\n",
       "      <th>Three</th>\n",
       "    </tr>\n",
       "  </thead>\n",
       "  <tbody>\n",
       "    <tr>\n",
       "      <th>A</th>\n",
       "      <td>0.0</td>\n",
       "      <td>2.0</td>\n",
       "      <td>4.0</td>\n",
       "    </tr>\n",
       "    <tr>\n",
       "      <th>B</th>\n",
       "      <td>6.0</td>\n",
       "      <td>8.0</td>\n",
       "      <td>10.0</td>\n",
       "    </tr>\n",
       "    <tr>\n",
       "      <th>C</th>\n",
       "      <td>NaN</td>\n",
       "      <td>NaN</td>\n",
       "      <td>NaN</td>\n",
       "    </tr>\n",
       "    <tr>\n",
       "      <th>D</th>\n",
       "      <td>NaN</td>\n",
       "      <td>NaN</td>\n",
       "      <td>NaN</td>\n",
       "    </tr>\n",
       "  </tbody>\n",
       "</table>\n",
       "</div>"
      ],
      "text/plain": [
       "   One  Two  Three\n",
       "A  0.0  2.0    4.0\n",
       "B  6.0  8.0   10.0\n",
       "C  NaN  NaN    NaN\n",
       "D  NaN  NaN    NaN"
      ]
     },
     "execution_count": 24,
     "metadata": {},
     "output_type": "execute_result"
    }
   ],
   "source": [
    "df1= pd.DataFrame(np.arange(9).reshape(3,3),index=['A','B','C'],columns=['One','Two','Three'])\n",
    "df2= pd.DataFrame(np.arange(9).reshape(3,3),index=['A','B','D'],columns=['One','Two','Three'])\n",
    "df1+df2"
   ]
  },
  {
   "cell_type": "code",
   "execution_count": 25,
   "id": "d2d05b46-6d89-47d1-a966-0d8a5fe96cdb",
   "metadata": {},
   "outputs": [
    {
     "data": {
      "text/html": [
       "<div>\n",
       "<style scoped>\n",
       "    .dataframe tbody tr th:only-of-type {\n",
       "        vertical-align: middle;\n",
       "    }\n",
       "\n",
       "    .dataframe tbody tr th {\n",
       "        vertical-align: top;\n",
       "    }\n",
       "\n",
       "    .dataframe thead th {\n",
       "        text-align: right;\n",
       "    }\n",
       "</style>\n",
       "<table border=\"1\" class=\"dataframe\">\n",
       "  <thead>\n",
       "    <tr style=\"text-align: right;\">\n",
       "      <th></th>\n",
       "      <th>One</th>\n",
       "      <th>Two</th>\n",
       "      <th>Three</th>\n",
       "    </tr>\n",
       "  </thead>\n",
       "  <tbody>\n",
       "    <tr>\n",
       "      <th>A</th>\n",
       "      <td>0.0</td>\n",
       "      <td>2.0</td>\n",
       "      <td>4.0</td>\n",
       "    </tr>\n",
       "    <tr>\n",
       "      <th>B</th>\n",
       "      <td>6.0</td>\n",
       "      <td>8.0</td>\n",
       "      <td>10.0</td>\n",
       "    </tr>\n",
       "    <tr>\n",
       "      <th>C</th>\n",
       "      <td>6.0</td>\n",
       "      <td>7.0</td>\n",
       "      <td>8.0</td>\n",
       "    </tr>\n",
       "    <tr>\n",
       "      <th>D</th>\n",
       "      <td>6.0</td>\n",
       "      <td>7.0</td>\n",
       "      <td>8.0</td>\n",
       "    </tr>\n",
       "  </tbody>\n",
       "</table>\n",
       "</div>"
      ],
      "text/plain": [
       "   One  Two  Three\n",
       "A  0.0  2.0    4.0\n",
       "B  6.0  8.0   10.0\n",
       "C  6.0  7.0    8.0\n",
       "D  6.0  7.0    8.0"
      ]
     },
     "execution_count": 25,
     "metadata": {},
     "output_type": "execute_result"
    }
   ],
   "source": [
    "#Replace NaN with 0\n",
    "\n",
    "df1.add(df2,fill_value=0)"
   ]
  },
  {
   "cell_type": "code",
   "execution_count": 26,
   "id": "7f42ff23-dd1a-4d82-8591-2e8bb4fb57a5",
   "metadata": {},
   "outputs": [
    {
     "data": {
      "text/html": [
       "<div>\n",
       "<style scoped>\n",
       "    .dataframe tbody tr th:only-of-type {\n",
       "        vertical-align: middle;\n",
       "    }\n",
       "\n",
       "    .dataframe tbody tr th {\n",
       "        vertical-align: top;\n",
       "    }\n",
       "\n",
       "    .dataframe thead th {\n",
       "        text-align: right;\n",
       "    }\n",
       "</style>\n",
       "<table border=\"1\" class=\"dataframe\">\n",
       "  <thead>\n",
       "    <tr style=\"text-align: right;\">\n",
       "      <th></th>\n",
       "      <th>One</th>\n",
       "      <th>Two</th>\n",
       "      <th>Three</th>\n",
       "    </tr>\n",
       "  </thead>\n",
       "  <tbody>\n",
       "    <tr>\n",
       "      <th>A</th>\n",
       "      <td>inf</td>\n",
       "      <td>1.000000</td>\n",
       "      <td>0.500</td>\n",
       "    </tr>\n",
       "    <tr>\n",
       "      <th>B</th>\n",
       "      <td>0.333333</td>\n",
       "      <td>0.250000</td>\n",
       "      <td>0.200</td>\n",
       "    </tr>\n",
       "    <tr>\n",
       "      <th>C</th>\n",
       "      <td>0.166667</td>\n",
       "      <td>0.142857</td>\n",
       "      <td>0.125</td>\n",
       "    </tr>\n",
       "  </tbody>\n",
       "</table>\n",
       "</div>"
      ],
      "text/plain": [
       "        One       Two  Three\n",
       "A       inf  1.000000  0.500\n",
       "B  0.333333  0.250000  0.200\n",
       "C  0.166667  0.142857  0.125"
      ]
     },
     "execution_count": 26,
     "metadata": {},
     "output_type": "execute_result"
    }
   ],
   "source": [
    "1/df1"
   ]
  },
  {
   "cell_type": "code",
   "execution_count": 27,
   "id": "b98df2f9-17bf-4f8a-8c2c-77845a742397",
   "metadata": {},
   "outputs": [
    {
     "data": {
      "text/plain": [
       "'\\nSubstriction - sub()\\nDivide - div()\\nPow.. - pow()\\nMultiplication - mul()\\n'"
      ]
     },
     "execution_count": 27,
     "metadata": {},
     "output_type": "execute_result"
    }
   ],
   "source": [
    "'''\n",
    "Substriction - sub()\n",
    "Divide - div()\n",
    "Pow.. - pow()\n",
    "Multiplication - mul()\n",
    "'''"
   ]
  },
  {
   "cell_type": "code",
   "execution_count": 34,
   "id": "437c556b-1ce0-4d95-a908-c0aeabb51c92",
   "metadata": {},
   "outputs": [
    {
     "data": {
      "text/html": [
       "<div>\n",
       "<style scoped>\n",
       "    .dataframe tbody tr th:only-of-type {\n",
       "        vertical-align: middle;\n",
       "    }\n",
       "\n",
       "    .dataframe tbody tr th {\n",
       "        vertical-align: top;\n",
       "    }\n",
       "\n",
       "    .dataframe thead th {\n",
       "        text-align: right;\n",
       "    }\n",
       "</style>\n",
       "<table border=\"1\" class=\"dataframe\">\n",
       "  <thead>\n",
       "    <tr style=\"text-align: right;\">\n",
       "      <th></th>\n",
       "      <th>A</th>\n",
       "      <th>B</th>\n",
       "      <th>C</th>\n",
       "    </tr>\n",
       "  </thead>\n",
       "  <tbody>\n",
       "    <tr>\n",
       "      <th>Elmir</th>\n",
       "      <td>-1.284199</td>\n",
       "      <td>0.534088</td>\n",
       "      <td>-2.716591</td>\n",
       "    </tr>\n",
       "    <tr>\n",
       "      <th>Orxan</th>\n",
       "      <td>-1.582902</td>\n",
       "      <td>0.191439</td>\n",
       "      <td>0.094677</td>\n",
       "    </tr>\n",
       "    <tr>\n",
       "      <th>Abidin</th>\n",
       "      <td>0.721838</td>\n",
       "      <td>-1.470209</td>\n",
       "      <td>0.776630</td>\n",
       "    </tr>\n",
       "    <tr>\n",
       "      <th>Elnur</th>\n",
       "      <td>-1.917429</td>\n",
       "      <td>-0.030824</td>\n",
       "      <td>-0.057056</td>\n",
       "    </tr>\n",
       "  </tbody>\n",
       "</table>\n",
       "</div>"
      ],
      "text/plain": [
       "               A         B         C\n",
       "Elmir  -1.284199  0.534088 -2.716591\n",
       "Orxan  -1.582902  0.191439  0.094677\n",
       "Abidin  0.721838 -1.470209  0.776630\n",
       "Elnur  -1.917429 -0.030824 -0.057056"
      ]
     },
     "execution_count": 34,
     "metadata": {},
     "output_type": "execute_result"
    }
   ],
   "source": [
    "#Functions applying\n",
    "\n",
    "df3 = pd.DataFrame(np.random.randn(4,3),columns= list('ABC'),index = ['Elmir',\"Orxan\",'Abidin','Elnur'])\n",
    "df3"
   ]
  },
  {
   "cell_type": "code",
   "execution_count": 35,
   "id": "4faa4321-9b0f-4bfe-9184-919289fcb37b",
   "metadata": {},
   "outputs": [
    {
     "data": {
      "text/html": [
       "<div>\n",
       "<style scoped>\n",
       "    .dataframe tbody tr th:only-of-type {\n",
       "        vertical-align: middle;\n",
       "    }\n",
       "\n",
       "    .dataframe tbody tr th {\n",
       "        vertical-align: top;\n",
       "    }\n",
       "\n",
       "    .dataframe thead th {\n",
       "        text-align: right;\n",
       "    }\n",
       "</style>\n",
       "<table border=\"1\" class=\"dataframe\">\n",
       "  <thead>\n",
       "    <tr style=\"text-align: right;\">\n",
       "      <th></th>\n",
       "      <th>A</th>\n",
       "      <th>B</th>\n",
       "      <th>C</th>\n",
       "    </tr>\n",
       "  </thead>\n",
       "  <tbody>\n",
       "    <tr>\n",
       "      <th>Elmir</th>\n",
       "      <td>1.284199</td>\n",
       "      <td>0.534088</td>\n",
       "      <td>2.716591</td>\n",
       "    </tr>\n",
       "    <tr>\n",
       "      <th>Orxan</th>\n",
       "      <td>1.582902</td>\n",
       "      <td>0.191439</td>\n",
       "      <td>0.094677</td>\n",
       "    </tr>\n",
       "    <tr>\n",
       "      <th>Abidin</th>\n",
       "      <td>0.721838</td>\n",
       "      <td>1.470209</td>\n",
       "      <td>0.776630</td>\n",
       "    </tr>\n",
       "    <tr>\n",
       "      <th>Elnur</th>\n",
       "      <td>1.917429</td>\n",
       "      <td>0.030824</td>\n",
       "      <td>0.057056</td>\n",
       "    </tr>\n",
       "  </tbody>\n",
       "</table>\n",
       "</div>"
      ],
      "text/plain": [
       "               A         B         C\n",
       "Elmir   1.284199  0.534088  2.716591\n",
       "Orxan   1.582902  0.191439  0.094677\n",
       "Abidin  0.721838  1.470209  0.776630\n",
       "Elnur   1.917429  0.030824  0.057056"
      ]
     },
     "execution_count": 35,
     "metadata": {},
     "output_type": "execute_result"
    }
   ],
   "source": [
    "np.abs(df3)  #Absolute"
   ]
  },
  {
   "cell_type": "code",
   "execution_count": 37,
   "id": "53261efe-7007-4bff-a37e-be050a58cbf1",
   "metadata": {},
   "outputs": [
    {
     "data": {
      "text/plain": [
       "A    2.639267\n",
       "B    2.004298\n",
       "C    3.493221\n",
       "dtype: float64"
      ]
     },
     "execution_count": 37,
     "metadata": {},
     "output_type": "execute_result"
    }
   ],
   "source": [
    "# Use apply() method\n",
    "lf = lambda x:x.max() - x.min()\n",
    "df3.apply(lf)"
   ]
  },
  {
   "cell_type": "code",
   "execution_count": 39,
   "id": "c003b5e8-bfed-4e93-918d-657eff9f5c05",
   "metadata": {},
   "outputs": [
    {
     "data": {
      "text/plain": [
       "Elmir     3.250679\n",
       "Orxan     1.774341\n",
       "Abidin    2.246839\n",
       "Elnur     1.886605\n",
       "dtype: float64"
      ]
     },
     "execution_count": 39,
     "metadata": {},
     "output_type": "execute_result"
    }
   ],
   "source": [
    "df3.apply(lf,axis=1)"
   ]
  },
  {
   "cell_type": "code",
   "execution_count": 43,
   "id": "d2d4bbe2-1552-4922-b12a-772d708f3523",
   "metadata": {},
   "outputs": [
    {
     "data": {
      "text/html": [
       "<div>\n",
       "<style scoped>\n",
       "    .dataframe tbody tr th:only-of-type {\n",
       "        vertical-align: middle;\n",
       "    }\n",
       "\n",
       "    .dataframe tbody tr th {\n",
       "        vertical-align: top;\n",
       "    }\n",
       "\n",
       "    .dataframe thead th {\n",
       "        text-align: right;\n",
       "    }\n",
       "</style>\n",
       "<table border=\"1\" class=\"dataframe\">\n",
       "  <thead>\n",
       "    <tr style=\"text-align: right;\">\n",
       "      <th></th>\n",
       "      <th>A</th>\n",
       "      <th>B</th>\n",
       "      <th>C</th>\n",
       "    </tr>\n",
       "  </thead>\n",
       "  <tbody>\n",
       "    <tr>\n",
       "      <th>Elmir</th>\n",
       "      <td>-0.0</td>\n",
       "      <td>0.0</td>\n",
       "      <td>-0.0</td>\n",
       "    </tr>\n",
       "    <tr>\n",
       "      <th>Orxan</th>\n",
       "      <td>-0.0</td>\n",
       "      <td>0.0</td>\n",
       "      <td>0.0</td>\n",
       "    </tr>\n",
       "    <tr>\n",
       "      <th>Abidin</th>\n",
       "      <td>0.0</td>\n",
       "      <td>-0.0</td>\n",
       "      <td>0.0</td>\n",
       "    </tr>\n",
       "    <tr>\n",
       "      <th>Elnur</th>\n",
       "      <td>-0.0</td>\n",
       "      <td>-0.0</td>\n",
       "      <td>-0.0</td>\n",
       "    </tr>\n",
       "  </tbody>\n",
       "</table>\n",
       "</div>"
      ],
      "text/plain": [
       "          A    B    C\n",
       "Elmir  -0.0  0.0 -0.0\n",
       "Orxan  -0.0  0.0  0.0\n",
       "Abidin  0.0 -0.0  0.0\n",
       "Elnur  -0.0 -0.0 -0.0"
      ]
     },
     "execution_count": 43,
     "metadata": {},
     "output_type": "execute_result"
    }
   ],
   "source": [
    "#Apply custom function\n",
    "\n",
    "def f(x):\n",
    "    return (x*0)\n",
    "\n",
    "df3.apply(f)"
   ]
  },
  {
   "cell_type": "code",
   "execution_count": null,
   "id": "05b71887-5a81-4d8a-8be6-bf8cddc84aaf",
   "metadata": {},
   "outputs": [],
   "source": []
  }
 ],
 "metadata": {
  "kernelspec": {
   "display_name": "Python 3 (ipykernel)",
   "language": "python",
   "name": "python3"
  },
  "language_info": {
   "codemirror_mode": {
    "name": "ipython",
    "version": 3
   },
   "file_extension": ".py",
   "mimetype": "text/x-python",
   "name": "python",
   "nbconvert_exporter": "python",
   "pygments_lexer": "ipython3",
   "version": "3.12.2"
  }
 },
 "nbformat": 4,
 "nbformat_minor": 5
}
